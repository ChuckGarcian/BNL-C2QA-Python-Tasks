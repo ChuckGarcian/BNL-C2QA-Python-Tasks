{
 "cells": [
  {
   "cell_type": "code",
   "execution_count": 106,
   "metadata": {},
   "outputs": [
    {
     "name": "stdout",
     "output_type": "stream",
     "text": [
      "Base-8 value 2323 in base-10: 1235\n"
     ]
    }
   ],
   "source": [
    "# Title: octal_converter.ipynb\n",
    "# Author: Charles \"Chuck\" Garcia\n",
    "\n",
    "# Cell 1: Convert octal to decimal - Looping\n",
    "\n",
    "import numpy as np\n",
    "\n",
    "\n",
    "def base_to_decimal(val, base):\n",
    "    \"\"\"\n",
    "    Converts the value 'val' from a given base 'base' to decimal.\n",
    "    \"\"\"\n",
    "    res = 0\n",
    "    val_str = str(val)[::-1]\n",
    "\n",
    "    # Convert by expanding and adding the weights\n",
    "    for place_value, digit in enumerate(val_str):\n",
    "        res += int(digit) * pow(base, place_value)\n",
    "\n",
    "    return res\n",
    "\n",
    "\n",
    "val = 2323\n",
    "base = 8\n",
    "res = base_to_decimal(val, base)\n",
    "print(f\"Base-{base} value {val} in base-10: {res}\")"
   ]
  },
  {
   "cell_type": "code",
   "execution_count": 107,
   "metadata": {},
   "outputs": [
    {
     "name": "stdout",
     "output_type": "stream",
     "text": [
      "Base-10 value 1235 in base-8: 2323\n"
     ]
    }
   ],
   "source": [
    "# Cell 2: Convert decimal to octal - Looping\n",
    "\n",
    "\n",
    "def decimal_to_base(val, base):\n",
    "    \"\"\"\n",
    "    Converts the value 'val' in base-10 to given base 'base'.\n",
    "    \"\"\"\n",
    "\n",
    "    arr = []\n",
    "\n",
    "    while val:\n",
    "        arr.append(val % base)\n",
    "        val = val // (base)\n",
    "\n",
    "    # Invert the array and convert to integer\n",
    "    return int(\"\".join(str(x) for x in arr[::-1]))\n",
    "\n",
    "\n",
    "val = res\n",
    "base = 8\n",
    "res = decimal_to_base(val, base)\n",
    "print(f\"Base-10 value {val} in base-{base}: {res}\")"
   ]
  },
  {
   "cell_type": "code",
   "execution_count": 108,
   "metadata": {},
   "outputs": [
    {
     "name": "stdout",
     "output_type": "stream",
     "text": [
      "Base-8 value 2323 in base-10: 1235\n"
     ]
    }
   ],
   "source": [
    "# Cell 3: Convert octal to decimal - No Looping\n",
    "\n",
    "val = int(str(res), base)\n",
    "print(f\"Base-{base} value {res} in base-10: {val}\")"
   ]
  },
  {
   "cell_type": "code",
   "execution_count": 116,
   "metadata": {},
   "outputs": [
    {
     "name": "stdout",
     "output_type": "stream",
     "text": [
      "Base-10 value 1235 in base-8: 2323\n"
     ]
    }
   ],
   "source": [
    "# Cell 4: Convert decimal to octal - No Looping\n",
    "\n",
    "res = np.base_repr(val, base=base)\n",
    "print(f\"Base-10 value {val} in base-{base}: {res}\")"
   ]
  }
 ],
 "metadata": {
  "kernelspec": {
   "display_name": "qis102",
   "language": "python",
   "name": "python3"
  },
  "language_info": {
   "codemirror_mode": {
    "name": "ipython",
    "version": 3
   },
   "file_extension": ".py",
   "mimetype": "text/x-python",
   "name": "python",
   "nbconvert_exporter": "python",
   "pygments_lexer": "ipython3",
   "version": "3.12.3"
  }
 },
 "nbformat": 4,
 "nbformat_minor": 2
}
