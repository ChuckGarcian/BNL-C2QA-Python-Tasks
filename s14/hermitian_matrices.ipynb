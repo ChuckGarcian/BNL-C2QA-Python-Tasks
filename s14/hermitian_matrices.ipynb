{
 "cells": [
  {
   "cell_type": "code",
   "execution_count": 28,
   "metadata": {},
   "outputs": [
    {
     "data": {
      "text/latex": [
       "$\\displaystyle \\mathbf{A}=\\begin{bmatrix}5 &4 + 5i &6-16i\\\\[1em]4-5i &13 &7\\\\[1em]6 + 16i &7 &2.1\\\\\\end{bmatrix}$"
      ],
      "text/plain": [
       "<IPython.core.display.Math object>"
      ]
     },
     "metadata": {},
     "output_type": "display_data"
    },
    {
     "data": {
      "text/latex": [
       "$\\displaystyle \\mathbf{A^\\dagger}=\\begin{bmatrix}5 &4 + 5i &6-16i\\\\[1em]4-5i &13 &7\\\\[1em]6 + 16i &7 &2.1\\\\\\end{bmatrix}$"
      ],
      "text/plain": [
       "<IPython.core.display.Math object>"
      ]
     },
     "metadata": {},
     "output_type": "display_data"
    },
    {
     "data": {
      "text/latex": [
       "$\\displaystyle \\mathbf{A.shape}=\\begin{bmatrix}3 &3\\\\\\end{bmatrix}$"
      ],
      "text/plain": [
       "<IPython.core.display.Math object>"
      ]
     },
     "metadata": {},
     "output_type": "display_data"
    },
    {
     "data": {
      "text/latex": [
       "$\\displaystyle \\text{A is square} \\land \\mathbf{A=A^\\dagger}\\;\\;\\rightarrow\\; \\text{A is hermitian}$"
      ],
      "text/plain": [
       "<IPython.core.display.Math object>"
      ]
     },
     "metadata": {},
     "output_type": "display_data"
    }
   ],
   "source": [
    "# Title: hermitian_matrices.ipynb\n",
    "# Author: Charles \"Chuck\" Garcia\n",
    "\n",
    "# Cell 0 - Create matrix A and show its hermitian\n",
    "\n",
    "import numpy as np\n",
    "from IPython.core.display import Math\n",
    "from qis102_utils import as_latex\n",
    "\n",
    "\n",
    "# Define a hermitian matrix\n",
    "a = np.array([[5, 4 + 5j, 6 - 16j], [4 - 5j, 13, 7], [6 + 16j, 7, 2.1]])\n",
    "a_t = a.conj().T\n",
    "shape = a.shape\n",
    "\n",
    "# Assert its hermitianess\n",
    "assert shape[0] / shape[1] == 1\n",
    "assert np.isclose(a_t, a).all()\n",
    "\n",
    "\n",
    "# Show it is in fact a hermitian matrix\n",
    "display(as_latex(a, prefix=r\"\\mathbf{A}=\"))\n",
    "display(as_latex(a_t, prefix=r\"\\mathbf{A^\\dagger}=\"))\n",
    "display(as_latex(a.shape, prefix=r\"\\mathbf{A.shape}=\"))\n",
    "display(\n",
    "    Math(\n",
    "        rf\"\\text{{A is square}} \\land \\mathbf{{A=A^\\dagger}}\"\n",
    "        rf\"\\;\\;\\rightarrow\\; \\text{{A is hermitian}}\"\n",
    "    )\n",
    ")"
   ]
  },
  {
   "cell_type": "code",
   "execution_count": 29,
   "metadata": {},
   "outputs": [
    {
     "data": {
      "text/latex": [
       "$\\displaystyle \\mathbf{A^{-1}}=\\begin{bmatrix}0.00454 &-0.00704 + 0.02566i &0.01047-0.05089i\\\\[1em]-0.00704-0.02566i &0.05896 &0.01906 + 0.01969i\\\\[1em]0.01047 + 0.05089i &0.01906-0.01969i &-0.00503\\\\\\end{bmatrix}$"
      ],
      "text/plain": [
       "<IPython.core.display.Math object>"
      ]
     },
     "metadata": {},
     "output_type": "display_data"
    },
    {
     "data": {
      "text/latex": [
       "$\\displaystyle \\mathbf{(A^{-1})^\\dagger}=\\begin{bmatrix}0.00454 &-0.00704 + 0.02566i &0.01047-0.05089i\\\\[1em]-0.00704-0.02566i &0.05896 &0.01906 + 0.01969i\\\\[1em]0.01047 + 0.05089i &0.01906-0.01969i &-0.00503\\\\\\end{bmatrix}$"
      ],
      "text/plain": [
       "<IPython.core.display.Math object>"
      ]
     },
     "metadata": {},
     "output_type": "display_data"
    },
    {
     "data": {
      "text/latex": [
       "$\\displaystyle \\mathbf{(A^{-1}).shape}=\\begin{bmatrix}3 &3\\\\\\end{bmatrix}$"
      ],
      "text/plain": [
       "<IPython.core.display.Math object>"
      ]
     },
     "metadata": {},
     "output_type": "display_data"
    },
    {
     "data": {
      "text/latex": [
       "$\\displaystyle \\text{A inverse is square} \\land \\mathbf{A}^{-1} = \\mathbf{A}^{-1\\dagger}\\;\\;\\rightarrow\\; \\text{A inverse is hermitian}$"
      ],
      "text/plain": [
       "<IPython.core.display.Math object>"
      ]
     },
     "metadata": {},
     "output_type": "display_data"
    }
   ],
   "source": [
    "# Cell 1 - Take inverse of A and show it is also hermitian\n",
    "\n",
    "# Define a hermitian matrix\n",
    "a_inv = np.linalg.inv(a)\n",
    "a_t = a_inv.conj().T\n",
    "shape = a_inv.shape\n",
    "\n",
    "# Assert its hermitianess\n",
    "assert shape[0] / shape[1] == 1\n",
    "assert np.isclose(a_t, a_inv).all()\n",
    "\n",
    "\n",
    "# Show it is in fact a hermitian matrix\n",
    "display(as_latex(a_inv, prefix=r\"\\mathbf{A^{-1}}=\"))\n",
    "display(as_latex(a_t, prefix=r\"\\mathbf{(A^{-1})^\\dagger}=\"))\n",
    "display(as_latex(a_inv.shape, prefix=r\"\\mathbf{(A^{-1}).shape}=\"))\n",
    "display(\n",
    "    Math(\n",
    "        r\"\\text{A inverse is square} \\land \\mathbf{A}^{-1} = \\mathbf{A}^{-1\\dagger}\"\n",
    "        r\"\\;\\;\\rightarrow\\; \\text{A inverse is hermitian}\"\n",
    "    )\n",
    ")"
   ]
  },
  {
   "cell_type": "code",
   "execution_count": 30,
   "metadata": {},
   "outputs": [
    {
     "data": {
      "text/latex": [
       "$\\displaystyle \\mathbf{A^{2}}=\\begin{bmatrix}358 &114-22i &70.6-78.6i\\\\[1em]114 + 22i &259 &49.7-94i\\\\[1em]70.6 + 78.6i &49.7 + 94i &345.41\\\\\\end{bmatrix}$"
      ],
      "text/plain": [
       "<IPython.core.display.Math object>"
      ]
     },
     "metadata": {},
     "output_type": "display_data"
    },
    {
     "data": {
      "text/latex": [
       "$\\displaystyle \\mathbf{(A^{2})^\\dagger}=\\begin{bmatrix}358 &114-22i &70.6-78.6i\\\\[1em]114 + 22i &259 &49.7-94i\\\\[1em]70.6 + 78.6i &49.7 + 94i &345.41\\\\\\end{bmatrix}$"
      ],
      "text/plain": [
       "<IPython.core.display.Math object>"
      ]
     },
     "metadata": {},
     "output_type": "display_data"
    },
    {
     "data": {
      "text/latex": [
       "$\\displaystyle \\mathbf{(A^{2}).shape}=\\begin{bmatrix}3 &3\\\\\\end{bmatrix}$"
      ],
      "text/plain": [
       "<IPython.core.display.Math object>"
      ]
     },
     "metadata": {},
     "output_type": "display_data"
    },
    {
     "data": {
      "text/latex": [
       "$\\displaystyle \\text{A}^2 \\text{ is square} \\land \\mathbf{A}^2=\\mathbf{A}^{2\\dagger}\\;\\;\\rightarrow\\; \\text{A2 is hermitian}$"
      ],
      "text/plain": [
       "<IPython.core.display.Math object>"
      ]
     },
     "metadata": {},
     "output_type": "display_data"
    }
   ],
   "source": [
    "# Cell 2 - Raise A to a power and show it is also a hermitian\n",
    "\n",
    "# Define a hermitian matrix\n",
    "n = 2\n",
    "a_pow = np.linalg.matrix_power(a, n)\n",
    "a_t = a_pow.conj().T\n",
    "shape = a_pow.shape\n",
    "\n",
    "# Assert its hermitianess\n",
    "assert shape[0] / shape[1] == 1\n",
    "assert np.isclose(a_t, a_pow).all()\n",
    "\n",
    "# Show it is in fact a hermitian matrix\n",
    "display(as_latex(a_pow, prefix=r\"\\mathbf{A^{2}}=\"))\n",
    "display(as_latex(a_t, prefix=r\"\\mathbf{(A^{2})^\\dagger}=\"))\n",
    "display(as_latex(shape, prefix=r\"\\mathbf{(A^{2}).shape}=\"))\n",
    "display(\n",
    "    Math(\n",
    "        r\"\\text{A}^2 \\text{ is square} \\land \\mathbf{A}^2=\\mathbf{A}^{2\\dagger}\"\n",
    "        r\"\\;\\;\\rightarrow\\; \\text{A2 is hermitian}\"\n",
    "    )\n",
    ")"
   ]
  }
 ],
 "metadata": {
  "kernelspec": {
   "display_name": "qis102",
   "language": "python",
   "name": "python3"
  },
  "language_info": {
   "codemirror_mode": {
    "name": "ipython",
    "version": 3
   },
   "file_extension": ".py",
   "mimetype": "text/x-python",
   "name": "python",
   "nbconvert_exporter": "python",
   "pygments_lexer": "ipython3",
   "version": "3.12.3"
  }
 },
 "nbformat": 4,
 "nbformat_minor": 2
}
